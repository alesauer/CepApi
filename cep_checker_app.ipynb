{
 "cells": [
  {
   "cell_type": "markdown",
   "id": "30a6e755",
   "metadata": {},
   "source": [
    "# Projeto: Consulta de CEP\n",
    "Este notebook contém o código da aplicação **Consulta de CEP**, desenvolvida em Python com o framework Flask.\n",
    "\n",
    "O objetivo do projeto é permitir que o usuário insira um CEP e obtenha informações detalhadas sobre o endereço associado, utilizando a API ViaCEP."
   ]
  },
  {
   "cell_type": "markdown",
   "id": "852b13d1",
   "metadata": {},
   "source": [
    "## Passo 1: Importação das bibliotecas\n",
    "Primeiro, vamos importar as bibliotecas necessárias: `Flask` para a criação da aplicação web, e `requests` para realizar as consultas à API ViaCEP."
   ]
  },
  {
   "cell_type": "code",
   "execution_count": null,
   "id": "b55a7e8a",
   "metadata": {},
   "outputs": [],
   "source": [
    "\n",
    "# Importando as bibliotecas necessárias\n",
    "from flask import Flask, render_template, request\n",
    "import requests\n"
   ]
  },
  {
   "cell_type": "markdown",
   "id": "bcaa0104",
   "metadata": {},
   "source": [
    "## Passo 2: Definindo a rota principal\n",
    "A aplicação terá uma única rota (`/`) que irá lidar com requisições GET e POST. \n",
    "- Se for uma requisição GET, será exibido o formulário para que o usuário insira o CEP.\n",
    "- Se for uma requisição POST, a aplicação fará a consulta à API ViaCEP e retornará os dados."
   ]
  },
  {
   "cell_type": "code",
   "execution_count": null,
   "id": "81d0bfd2",
   "metadata": {},
   "outputs": [],
   "source": [
    "\n",
    "# Definindo a aplicação Flask e a rota principal\n",
    "app = Flask(__name__)\n",
    "\n",
    "@app.route(\"/\", methods=[\"GET\", \"POST\"])\n",
    "def index():\n",
    "    if request.method == \"POST\":\n",
    "        # Recebe o CEP enviado pelo formulário\n",
    "        cep = request.form.get(\"cep\")\n",
    "        # URL da API ViaCEP\n",
    "        url = f\"https://viacep.com.br/ws/{cep}/json/\"\n",
    "        \n",
    "        try:\n",
    "            # Faz a requisição para a API\n",
    "            response = requests.get(url, proxies=proxy)\n",
    "            if response.status_code == 200:\n",
    "                # Se a resposta for OK, renderiza os dados\n",
    "                data = response.json()\n",
    "                return render_template(\"index.html\", data=data)\n",
    "            else:\n",
    "                # Caso contrário, mostra o código de erro\n",
    "                error = f\"Erro na solicitação: {response.status_code}\"\n",
    "                return render_template(\"index.html\", error=error)\n",
    "        except Exception as e:\n",
    "            # Captura erros de conexão\n",
    "            error = f\"Erro de conexão: {e}\"\n",
    "            return render_template(\"index.html\", error=error)\n",
    "    \n",
    "    # Renderiza a página com o formulário\n",
    "    return render_template(\"index.html\")\n"
   ]
  },
  {
   "cell_type": "markdown",
   "id": "824ef2c7",
   "metadata": {},
   "source": [
    "## Passo 3: Executando a aplicação\n",
    "Agora, basta executar a aplicação Flask no modo de depuração para testes locais."
   ]
  },
  {
   "cell_type": "code",
   "execution_count": null,
   "id": "c33356a7",
   "metadata": {},
   "outputs": [],
   "source": [
    "\n",
    "if __name__ == \"__main__\":\n",
    "    # Executa a aplicação Flask\n",
    "    app.run(debug=True)\n"
   ]
  }
 ],
 "metadata": {
  "language_info": {
   "name": "python"
  }
 },
 "nbformat": 4,
 "nbformat_minor": 5
}
